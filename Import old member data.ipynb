{
 "cells": [
  {
   "cell_type": "code",
   "execution_count": 2,
   "metadata": {
    "collapsed": false
   },
   "outputs": [],
   "source": [
    "import numpy as np\n",
    "import pandas as pd\n",
    "import matplotlib\n",
    "%matplotlib inline\n",
    "\n",
    "import seaborn \n",
    "seaborn.set()\n",
    "\n",
    "import xlrd\n",
    "import xlsxwriter\n",
    "import openpyxl  \n",
    "\n",
    "import os\n",
    "import glob"
   ]
  },
  {
   "cell_type": "code",
   "execution_count": 19,
   "metadata": {
    "collapsed": true
   },
   "outputs": [],
   "source": [
    "os.chdir('C:/Users/RobinG/Desktop/Py/Annual Member Data Submittals/member data 2015/')"
   ]
  },
  {
   "cell_type": "code",
   "execution_count": 29,
   "metadata": {
    "collapsed": true
   },
   "outputs": [],
   "source": [
    "files = glob.glob('*.xlsx')"
   ]
  },
  {
   "cell_type": "code",
   "execution_count": 30,
   "metadata": {
    "collapsed": false
   },
   "outputs": [
    {
     "name": "stdout",
     "output_type": "stream",
     "text": [
      "City of Bellevue\n",
      "City of Edmonds\n",
      "City of Everett\n",
      "City of Lacey\n",
      "City of Mercer Island\n",
      "City of Port Angeles\n",
      "City of Seattle\n",
      "City of Tukwilla\n",
      "Clallam Transit\n",
      "Click Wholesale\n",
      "Community Transit\n",
      "Jefferson County\n",
      "King County Housing Authority\n",
      "Kitsap Transit\n",
      "Northwest Trek\n",
      "City of Olympia\n",
      "Pierce County Equipment Services Fleet\n",
      "Pierce Transit\n",
      "Port of Seattle\n",
      "Potelco\n",
      "Puget Sound Energy\n",
      "Recology CleanScapes\n",
      "City of Redmond\n",
      "City of Renton\n",
      "City of Shoreline\n",
      "Shuttle Express\n",
      "Snohomish PUD\n",
      "Sound Transit\n",
      "City of Tacoma\n",
      "Thurston County\n",
      "GSA Washington fleet\n",
      "University of Washington\n",
      "Washington Dept of Transportation\n",
      "Whatcom Transit Authority\n"
     ]
    }
   ],
   "source": [
    "for f in files:\n",
    "    dat = openpyxl.load_workbook(f).get_sheet_by_name('Sheet1')\n",
    "    print(dat['E2'].value)"
   ]
  },
  {
   "cell_type": "code",
   "execution_count": null,
   "metadata": {
    "collapsed": true
   },
   "outputs": [],
   "source": []
  },
  {
   "cell_type": "code",
   "execution_count": 25,
   "metadata": {
    "collapsed": false
   },
   "outputs": [],
   "source": [
    "dat = openpyxl.load_workbook(files[i]).get_sheet_by_name('Sheet1')"
   ]
  },
  {
   "cell_type": "code",
   "execution_count": null,
   "metadata": {
    "collapsed": false
   },
   "outputs": [],
   "source": [
    "Member = dat['E2'].value;\n",
    "Year = 2015;\n",
    "LDV_CNG = int(dat['F7'].value);\n",
    "LDV_E85 = int(dat['F8'].value);\n",
    "LDV_B20 = int(dat['F9'].value);\n",
    "LDV_Hybrid = int(dat['F10'].value);\n",
    "LDV_Autogas = int(dat['F11'].value);\n",
    "LDV_EV = int(dat['F12'].value);\n",
    "LDV_ShortEV = int(dat['F13'].value);\n",
    "MHDV_CNG = int(dat['F16'].value);\n",
    "MHDV_B20 = int(dat['F17'].value);\n",
    "MHDV_Hybrid = int(dat['F18'].value);\n",
    "MHDV_Autogas = int(dat['F19'].value); \n",
    "MHDV_EV = int(dat['F20'].value); \n",
    "ORV_B20 = int(dat['F23'].value);\n",
    "ORV_Autogas = int(dat['F25'].value);\n",
    "ORV_EV = int(dat['F26'].value);"
   ]
  },
  {
   "cell_type": "code",
   "execution_count": null,
   "metadata": {
    "collapsed": false
   },
   "outputs": [],
   "source": [
    "df = pd.DataFrame(columns=['Member','Year','LDV_CNG','LDV_E85'])"
   ]
  },
  {
   "cell_type": "code",
   "execution_count": null,
   "metadata": {
    "collapsed": false
   },
   "outputs": [],
   "source": [
    "drow = [Member, Year, LDV_CNG, LDV_E85]; drow"
   ]
  },
  {
   "cell_type": "code",
   "execution_count": null,
   "metadata": {
    "collapsed": true
   },
   "outputs": [],
   "source": []
  },
  {
   "cell_type": "code",
   "execution_count": null,
   "metadata": {
    "collapsed": true
   },
   "outputs": [],
   "source": []
  }
 ],
 "metadata": {
  "kernelspec": {
   "display_name": "Python 3",
   "language": "python",
   "name": "python3"
  },
  "language_info": {
   "codemirror_mode": {
    "name": "ipython",
    "version": 3
   },
   "file_extension": ".py",
   "mimetype": "text/x-python",
   "name": "python",
   "nbconvert_exporter": "python",
   "pygments_lexer": "ipython3",
   "version": "3.5.2"
  }
 },
 "nbformat": 4,
 "nbformat_minor": 2
}
